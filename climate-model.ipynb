{
 "cells": [
  {
   "cell_type": "markdown",
   "id": "2aa11bb1",
   "metadata": {},
   "source": [
    "# Thông tin thành viên nhóm\n",
    "\n",
    "|STT|Họ và tên|Mã số sinh viên|\n",
    "|:---|:---|:---|\n",
    "|1|Lê Đức Huy|19120080|\n",
    "|2|Hoàng Dược Lam|19120267|\n",
    "|3|Mai Duy Nam| 19120298|"
   ]
  },
  {
   "cell_type": "markdown",
   "id": "e3a1c636",
   "metadata": {},
   "source": [
    "# 1. Xây dựng mô hình khí hậu"
   ]
  },
  {
   "cell_type": "markdown",
   "id": "24fcff21",
   "metadata": {},
   "source": [
    "Mô hình khí hậu đơn giản nhất được xây dựng như sau:\n",
    "\n",
    "$$ \\text{change in heat} = \\text{absorbed solar radiation} - \\text{outgoing thermal radiation} + \\text{human-caused greenhouse effect} $$\n",
    "\n",
    "$$ \\Delta Q = I - O + G $$\n",
    "\n",
    "Với:\n",
    "* $\\Delta$Q : change in heat (W/m^2)\n",
    "* I: absorbed solar radiation (W/m^2)\n",
    "* O: outgoing thermal radiation (W/m^2)\n",
    "* G: human-caused greenhouse effect (W/m^2)\n",
    "\n",
    "Người ta đã sử dụng công thức sau để dự đoán nhiệt độ:\n",
    "$$ \\Delta Q = C\\frac{dT}{dt} $$\n",
    "\n",
    "$$ Với: C= \\text{51 J/m^2/°C} $$\n",
    "\n",
    "Suy ra lượng nhiệt thay đổi theo thời gian là:\n",
    "$$\\frac{dT}{dt} = \\frac{1}{C}\\Delta Q$$\n",
    "\n",
    "Ta lần lượt làm rõ các yếu tố trong công thức của mô hình:\n",
    "* absorbed solar radiation: bức xạ mặt trời được hấp thụ  (I)\n",
    "* outgoing thermal radiation: bức xạ nhiệt phản xạ ra ngoài  (O)\n",
    "* human-caused greenhouse effect: hiệu ứng nhà kính  (G)\n",
    "\n",
    "## 1.1 Absorbed solar radiation\n",
    "Lượng nhiệt được hấp thụ được tính bằng:\n",
    "\n",
    "$$ I = \\frac{S(1-\\alpha)}{4} $$\n",
    "\n",
    "Với:\n",
    "* S = 1368 W/m^2 (solar insolation)\n",
    "* $\\alpha$ = 0.3\n",
    "\n",
    "\n",
    "## 1.2 Outgoing thermal radiation\n",
    "Trong tài liệu có ghi: \n",
    "\"Since these physics are too complicated to deal with here, we linearize the model _combining the incoming and the outgoing_.\"\n",
    "\n",
    "Do đó người ta có đưa ra đạo hàm phương trình nhiệt lượng theo thời gian:\n",
    "$$ \\text{temp}'(t) = B(\\text{temp}(0) - \\text{temp}(t)) $$\n",
    "\n",
    "Với $B = 1.3 W/m^2/°C$\n",
    "\n",
    "Nếu ta gọi $T$ là nhiệt độ Trái đất thay cho $\\text{temp}$ thì viết gọn lại nó sẽ được:\n",
    "\n",
    "$$ \\text{I - O} = B(T_0 - T_t) $$\n",
    "\n",
    "- Với $T_0$ là nhiệt độ trung bình của trái đất từ năm bắt đầu công nghiệp (1850): $14^o C$\n",
    "- $T_t$ là nhiệt độ trái đất vào năm thứ $t$\n",
    "\n",
    "Có thể thấy rằng, $(T_0 - T_t)$ chính là sự thay đổi nhiệt độ từ năm bắt đầu công nghiệp 1850 tới năm đang xét, ta rút gọn công thức như sau:\n",
    "\n",
    "$$ \\text{I - O} = -B\\Delta T_t $$\n",
    "\n",
    "Với: $\\Delta$T là sự thay đổi nhiệt từ năm bắt đầu công nghiệp 1850\n",
    "\n",
    "## 1.3 Human-caused greenhouse effect\n",
    "Với kinh nghiệm của các nhà khoa học, hiệu ứng nhà kính sẽ được tính bằng một hàm logarit của nồng độ khí CO2:\n",
    "\n",
    "$$ G = (forcing\\_coef) \\ln{\\frac{\\lvert \\text{CO}_2 \\rvert}{{\\lvert \\text{CO}_2 \\rvert}_{\\text{preindustrial}}}}$$\n",
    "\n",
    "Với: $ forcing\\_coef = 5 (W/m^2)$\n",
    "\n",
    "Và ta có: \n",
    "\n",
    "$$ \\frac{\\lvert \\text{CO}_2 \\rvert}{{\\lvert \\text{CO}_2 \\rvert}_{\\text{preindustrial}}} = 1 + \\left(\\frac{t}{220}\\right)^3 $$\n",
    "\n",
    "Với t là khoảng cách thời gian từ 1850. Ta kí hiệu lại $\\Delta$t\n",
    "\n",
    "Thế lại vào phương trình trên mình có được:\n",
    "\n",
    "$$ G = (forcing\\_coef) \\ln{\\left(1 + \\left(\\frac{\\Delta t}{220}\\right)^3 \\right)} $$\n",
    "\n",
    "## 1.4 Tổng hợp các công thức\n",
    "\n",
    "Nhiệt độ thay đổi theo thời gian ban đầu đã có: \n",
    "\n",
    "$$\\frac{dT}{dt} = \\frac{1}{C}\\Delta Q$$\n",
    "\n",
    "$$\\frac{dT}{dt} = \\frac{1}{C}((I - O) + G) $$\n",
    "\n",
    "$$ \\frac{dT}{dt} = \\frac{1}{C} \\left( -B\\Delta T_t + (forcing\\_coef) \\ln{\\left(1 + \\left(\\frac{\\Delta t}{220}\\right)^3 \\right)} \\right) $$\n",
    "\n",
    "$$ T_{t+1} - T_t = \\frac{1}{C} \\left( -B\\Delta T_t + (forcing\\_coef) \\ln{\\left(1 + \\left(\\frac{\\Delta t}{220}\\right)^3 \\right)}\\right) $$\n",
    "\n",
    "$$ T_{t+1} - T_0 - T_t + T_0 = \\frac{1}{C} \\left( -B\\Delta T_t + (forcing\\_coef) \\ln{\\left(1 + \\left(\\frac{\\Delta t}{220}\\right)^3 \\right)}\\right) $$\n",
    "\n",
    "$$ \\Delta T_{t+1} = \\frac{1}{C} \\left( -B\\Delta T_t + (forcing\\_coef) \\ln{\\left(1 + \\left(\\frac{\\Delta t}{220}\\right)^3 \\right)}\\right) + \\Delta T_t $$\n",
    "\n",
    "Trong đó:\n",
    "* $C = 51 \\text{ J/m^2/°C}$\n",
    "* $B = 1.3 \\text{ W/m^2/°C}$\n",
    "* $forcing\\_coef = 5 \\text{ W/m^2}$"
   ]
  },
  {
   "cell_type": "markdown",
   "id": "0c52810b",
   "metadata": {},
   "source": [
    "# 2. Kiểm thử mô hình và so sánh giá trị dự đoán với dữ liệu của NASA"
   ]
  },
  {
   "cell_type": "markdown",
   "id": "74756bef",
   "metadata": {},
   "source": [
    "## 2.1 Kiểm thử mô hình"
   ]
  },
  {
   "cell_type": "code",
   "execution_count": 1,
   "id": "b5cf7f91",
   "metadata": {},
   "outputs": [],
   "source": [
    "import matplotlib.pyplot as plt\n",
    "import numpy as np\n",
    "import pandas as pd\n",
    "import seaborn as sns\n",
    "\n",
    "sns.set_theme(style='whitegrid')"
   ]
  },
  {
   "cell_type": "code",
   "execution_count": 2,
   "id": "25122588",
   "metadata": {},
   "outputs": [],
   "source": [
    "C = 51\n",
    "B = 1.3\n",
    "FC = 5\n",
    "\n",
    "T = 0\n",
    "Ts = [T]\n",
    "\n",
    "for t in range(250):\n",
    "    T += 1/C * (-B*T + FC * np.log(((1 + (t/220)**3))))\n",
    "    Ts.append(T)"
   ]
  },
  {
   "cell_type": "code",
   "execution_count": 3,
   "id": "a354c46c",
   "metadata": {},
   "outputs": [
    {
     "data": {
      "image/png": "[encoded data removed]",
      "text/plain": [
       "<Figure size 432x288 with 1 Axes>"
      ]
     },
     "metadata": {},
     "output_type": "display_data"
    }
   ],
   "source": [
    "plt.plot(np.arange(1850, 2101), Ts)\n",
    "plt.plot([2030, 2030], [0, 2.5], '--', color='gray')\n",
    "plt.xlabel('Year')\n",
    "plt.ylabel('Temperature change');"
   ]
  },
  {
   "cell_type": "markdown",
   "id": "39dbeb00",
   "metadata": {},
   "source": [
    "Như vậy theo dự báo của mô hình, nhiệt độ của Trái đất đến năm 2030 sẽ tăng 1 độ C so với thời kỳ tiền công nghiệp."
   ]
  },
  {
   "cell_type": "markdown",
   "id": "15dc052d",
   "metadata": {},
   "source": [
    "## 2.2 So sánh giá trị dự đoán từ mô hình so với dữ liệu của NASA"
   ]
  },
  {
   "cell_type": "code",
   "execution_count": 4,
   "id": "2aabf09f",
   "metadata": {},
   "outputs": [
    {
     "data": {
      "text/html": [
       "<div>\n",
       "<style scoped>\n",
       "    .dataframe tbody tr th:only-of-type {\n",
       "        vertical-align: middle;\n",
       "    }\n",
       "\n",
       "    .dataframe tbody tr th {\n",
       "        vertical-align: top;\n",
       "    }\n",
       "\n",
       "    .dataframe thead th {\n",
       "        text-align: right;\n",
       "    }\n",
       "</style>\n",
       "<table border=\"1\" class=\"dataframe\">\n",
       "  <thead>\n",
       "    <tr style=\"text-align: right;\">\n",
       "      <th></th>\n",
       "      <th>Year</th>\n",
       "      <th>No_Smoothing</th>\n",
       "      <th>Lowess(5)</th>\n",
       "    </tr>\n",
       "  </thead>\n",
       "  <tbody>\n",
       "    <tr>\n",
       "      <th>0</th>\n",
       "      <td>1880</td>\n",
       "      <td>-0.17</td>\n",
       "      <td>-0.09</td>\n",
       "    </tr>\n",
       "    <tr>\n",
       "      <th>1</th>\n",
       "      <td>1881</td>\n",
       "      <td>-0.08</td>\n",
       "      <td>-0.13</td>\n",
       "    </tr>\n",
       "    <tr>\n",
       "      <th>2</th>\n",
       "      <td>1882</td>\n",
       "      <td>-0.11</td>\n",
       "      <td>-0.17</td>\n",
       "    </tr>\n",
       "    <tr>\n",
       "      <th>3</th>\n",
       "      <td>1883</td>\n",
       "      <td>-0.18</td>\n",
       "      <td>-0.20</td>\n",
       "    </tr>\n",
       "    <tr>\n",
       "      <th>4</th>\n",
       "      <td>1884</td>\n",
       "      <td>-0.29</td>\n",
       "      <td>-0.24</td>\n",
       "    </tr>\n",
       "  </tbody>\n",
       "</table>\n",
       "</div>"
      ],
      "text/plain": [
       "   Year  No_Smoothing  Lowess(5)\n",
       "0  1880         -0.17      -0.09\n",
       "1  1881         -0.08      -0.13\n",
       "2  1882         -0.11      -0.17\n",
       "3  1883         -0.18      -0.20\n",
       "4  1884         -0.29      -0.24"
      ]
     },
     "execution_count": 4,
     "metadata": {},
     "output_type": "execute_result"
    }
   ],
   "source": [
    "nasa_df = pd.read_csv('graph.csv')\n",
    "nasa_df.head()"
   ]
  },
  {
   "cell_type": "code",
   "execution_count": 5,
   "id": "f8815a2f",
   "metadata": {},
   "outputs": [
    {
     "data": {
      "image/png": "[encoded data removed]",
      "text/plain": [
       "<Figure size 576x360 with 1 Axes>"
      ]
     },
     "metadata": {},
     "output_type": "display_data"
    }
   ],
   "source": [
    "plt.figure(figsize=(8, 5))\n",
    "\n",
    "plt.plot(np.arange(1850, 2101), Ts, color='blue')\n",
    "plt.plot(nasa_df['Year'], nasa_df['No_Smoothing'], color='black')\n",
    "plt.plot([2030, 2030], [-0.5, 2.5], '--', color='gray')\n",
    "\n",
    "plt.legend(['Model', 'NASA observation'])\n",
    "plt.xlabel('Year')\n",
    "plt.ylabel('Temperature change');"
   ]
  },
  {
   "cell_type": "markdown",
   "id": "55145e1e",
   "metadata": {},
   "source": [
    "Nhìn chung, độ tăng nhiệt độ của Trái đất dự đoán theo mô hình có hình dạng tương đối khớp so với dữ liệu từ NASA."
   ]
  }
 ],
 "metadata": {
  "kernelspec": {
   "display_name": "Python 3 (ipykernel)",
   "language": "python",
   "name": "python3"
  },
  "language_info": {
   "codemirror_mode": {
    "name": "ipython",
    "version": 3
   },
   "file_extension": ".py",
   "mimetype": "text/x-python",
   "name": "python",
   "nbconvert_exporter": "python",
   "pygments_lexer": "ipython3",
   "version": "3.9.7"
  }
 },
 "nbformat": 4,
 "nbformat_minor": 5
}
