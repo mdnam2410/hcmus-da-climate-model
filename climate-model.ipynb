{
 "cells": [
  {
   "cell_type": "code",
   "execution_count": 1,
   "id": "cc704cde",
   "metadata": {},
   "outputs": [],
   "source": [
    "import matplotlib.pyplot as plt\n",
    "import numpy as np"
   ]
  },
  {
   "cell_type": "markdown",
   "id": "24fcff21",
   "metadata": {},
   "source": [
    "Theo tài liệu của thầy:\n",
    "\n",
    "$$ \\text{change in heat} = \\text{absorbed solar radiation} - \\text{outgoing thermal radiation} + \\text{human-caused greenhouse effect} $$\n",
    "\n",
    "## Mục 1.1\n",
    "Ở mục này có công thức\n",
    "\n",
    "$$ \\text{change in heat content} = C\\frac{dT}{dt} $$\n",
    "\n",
    "Nên mình dễ dàng tìm được thay đổi nhiệt độ theo thời gian là $\\frac{dT}{dt} = \\frac{1}{C}(\\text{change in heat content})$\n",
    "\n",
    "## Mục 2.2\n",
    "Ở mục 2.2 này không biết ở đâu ra thầy đưa ra được công thức:\n",
    "$$ \\text{temp}'(t) = B(\\text{temp}(0) - \\text{temp}(t)) $$\n",
    "\n",
    "Với $B = 1.3 W/m^2/C$ (?!). Nhưng mà cũng trong phần này thầy có nói: \"Since these physics are too complicated to deal with here, we linearize the model _combining the incoming and the outgoing_.\" Do đó nên tao nghĩ công thức nó bao hàm cả hai term là $\\text{absorbed solar radiation} - \\text{outgoing thermal radiation}$ luôn, nên nếu tao gọi $T$ là nhiệt độ Trái đất thay cho $\\text{temp}$ thì viết gọn lại nó sẽ được:\n",
    "\n",
    "$$ \\text{absorbed solar radiation} - \\text{outgoing thermal radiation} = B(T_0 - T) $$\n",
    "\n",
    "$T_0$ là gì thầy không nói, chịu luôn.\n",
    "\n",
    "## Mục 2.3\n",
    "Thầy cho mình cái công thức:\n",
    "\n",
    "$$ \\text{human-caused greenhouse effect} = FC \\ln{\\frac{\\lvert \\text{CO}_2 \\rvert}{{\\lvert \\text{CO}_2 \\rvert}_{\\text{preindustrial}}}}$$\n",
    "\n",
    "Và mình có:\n",
    "\n",
    "$$ \\frac{\\lvert \\text{CO}_2 \\rvert}{{\\lvert \\text{CO}_2 \\rvert}_{\\text{preindustrial}}} = 1 + \\left(\\frac{t}{220}\\right)^3 $$\n",
    "\n",
    "Thế lại vào phương trình trên mình có được:\n",
    "\n",
    "$$ \\text{human-caused greenhouse effect} = FC \\ln{\\left(1 + \\left(\\frac{t}{220}\\right)^3 \\right)} $$\n",
    "\n",
    "Temperature change:\n",
    "\n",
    "$$ \\frac{dT}{dt} = \\frac{1}{C} \\left( B(T_0 - T) + FC \\ln{\\left(1 + \\left(\\frac{t}{220}\\right)^3 \\right)} \\right) $$\n",
    "\n",
    "where:\n",
    "* $B = 1.3$\n",
    "* $FC = 5$\n",
    "* $T_0$ (some shit I don't know)"
   ]
  },
  {
   "cell_type": "code",
   "execution_count": 2,
   "id": "25122588",
   "metadata": {},
   "outputs": [],
   "source": [
    "C = 51\n",
    "B = 1.3\n",
    "FC = 5\n",
    "\n",
    "T = 0\n",
    "Ts = [T]\n",
    "\n",
    "for t in range(250):\n",
    "    T += 1/C * ((-B)*T + FC * np.log(((1 + (t/220)**3))))\n",
    "    Ts.append(T)"
   ]
  },
  {
   "cell_type": "code",
   "execution_count": 3,
   "id": "a354c46c",
   "metadata": {},
   "outputs": [
    {
     "data": {
      "image/png": "[encoded data removed]",
      "text/plain": [
       "<Figure size 432x288 with 1 Axes>"
      ]
     },
     "metadata": {
      "needs_background": "light"
     },
     "output_type": "display_data"
    }
   ],
   "source": [
    "plt.plot(np.arange(1850, 2101), Ts)\n",
    "plt.plot([2030, 2030], [0, 2.5], color='black')\n",
    "plt.xlabel('Year')\n",
    "plt.ylabel('Temperature change');"
   ]
  }
 ],
 "metadata": {
  "kernelspec": {
   "display_name": "Python 3 (ipykernel)",
   "language": "python",
   "name": "python3"
  },
  "language_info": {
   "codemirror_mode": {
    "name": "ipython",
    "version": 3
   },
   "file_extension": ".py",
   "mimetype": "text/x-python",
   "name": "python",
   "nbconvert_exporter": "python",
   "pygments_lexer": "ipython3",
   "version": "3.9.7"
  }
 },
 "nbformat": 4,
 "nbformat_minor": 5
}
